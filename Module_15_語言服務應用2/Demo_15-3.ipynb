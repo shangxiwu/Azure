{
 "cells": [
  {
   "cell_type": "markdown",
   "metadata": {},
   "source": [
    "# 執行LUIS意圖辨識服務操作"
   ]
  },
  {
   "cell_type": "markdown",
   "metadata": {},
   "source": [
    "## REST API"
   ]
  },
  {
   "cell_type": "code",
   "execution_count": 6,
   "metadata": {},
   "outputs": [
    {
     "name": "stdout",
     "output_type": "stream",
     "text": [
      "{'query': 'turn on all lights', 'prediction': {'topIntent': 'HomeAutomation.TurnOn', 'intents': {'HomeAutomation.TurnOn': {'score': 0.5375382}, 'None': {'score': 0.08687421}, 'HomeAutomation.TurnOff': {'score': 0.0207554}}, 'entities': {'HomeAutomation.Operation': ['on'], '$instance': {'HomeAutomation.Operation': [{'type': 'HomeAutomation.Operation', 'text': 'on', 'startIndex': 5, 'length': 2, 'score': 0.724984169, 'modelTypeId': -1, 'modelType': 'Unknown', 'recognitionSources': ['model']}]}}}}\n"
     ]
    }
   ],
   "source": [
    "import requests\n",
    "\n",
    "try:\n",
    "\n",
    "    key = '8286e59fe6f54ab9826222300bbdcb11' # your Runtime key\n",
    "    endpoint = 'westus.api.cognitive.microsoft.com' # such as 'your-resource-name.api.cognitive.microsoft.com'\n",
    "    appId = 'df67dcdb-c37d-46af-88e1-8b97951ca1c2'\n",
    "    utterance = 'turn on all lights'\n",
    "\n",
    "    headers = {\n",
    "    }\n",
    "\n",
    "    params ={\n",
    "        'query': utterance,\n",
    "        'timezoneOffset': '0',\n",
    "        'verbose': 'true',\n",
    "        'show-all-intents': 'true',\n",
    "        'spellCheck': 'false',\n",
    "        'staging': 'false',\n",
    "        'subscription-key': key\n",
    "    }\n",
    "\n",
    "    r = requests.get(f'https://{endpoint}/luis/prediction/v3.0/apps/{appId}/slots/production/predict',headers=headers, params=params)\n",
    "    print(r.json())\n",
    "\n",
    "except Exception as e:\n",
    "    print(f'{e}')"
   ]
  },
  {
   "cell_type": "markdown",
   "metadata": {},
   "source": [
    "## SDK"
   ]
  },
  {
   "cell_type": "code",
   "execution_count": 7,
   "metadata": {},
   "outputs": [
    {
     "name": "stdout",
     "output_type": "stream",
     "text": [
      "Top intent: SearchPics\n",
      "Sentiment: None\n",
      "Intents: \n",
      "\t\"SearchPics\"\n",
      "Entities: {'facet': ['baby']}\n"
     ]
    }
   ],
   "source": [
    "from azure.cognitiveservices.language.luis.runtime import LUISRuntimeClient\n",
    "from msrest.authentication import CognitiveServicesCredentials\n",
    "\n",
    "import datetime, json, os, time\n",
    "\n",
    "# Use public app ID or replace with your own trained and published app's ID\n",
    "# to query your own app\n",
    "# public appID = 'df67dcdb-c37d-46af-88e1-8b97951ca1c2'\n",
    "luisAppID = 'dcb2cb33-dee6-46c1-a3a6-28e266d159e0'\n",
    "runtime_key = '8286e59fe6f54ab9826222300bbdcb11'\n",
    "runtime_endpoint = 'https://westus.api.cognitive.microsoft.com/'\n",
    "\n",
    "# production or staging\n",
    "luisSlotName = 'production'\n",
    "\n",
    "# Instantiate a LUIS runtime client\n",
    "clientRuntime = LUISRuntimeClient(runtime_endpoint, CognitiveServicesCredentials(runtime_key))\n",
    "\n",
    "def predict(app_id, slot_name):\n",
    "\n",
    "    request = { \"query\" : \"hi, show me lovely baby pictures\" }\n",
    "\n",
    "    # Note be sure to specify, using the slot_name parameter, whether your application is in staging or \\\n",
    "    # production.\n",
    "    response = clientRuntime.prediction.get_slot_prediction(app_id=app_id, slot_name=slot_name, \\\n",
    "                                                            prediction_request=request)\n",
    "\n",
    "    print(\"Top intent: {}\".format(response.prediction.top_intent))\n",
    "    print(\"Sentiment: {}\".format (response.prediction.sentiment))\n",
    "    print(\"Intents: \")\n",
    "\n",
    "    for intent in response.prediction.intents:\n",
    "        print(\"\\t{}\".format (json.dumps (intent)))\n",
    "    print(\"Entities: {}\".format (response.prediction.entities))\n",
    "    \n",
    "predict(luisAppID, luisSlotName)"
   ]
  }
 ],
 "metadata": {
  "kernelspec": {
   "display_name": "Python 3",
   "language": "python",
   "name": "python3"
  },
  "language_info": {
   "codemirror_mode": {
    "name": "ipython",
    "version": 3
   },
   "file_extension": ".py",
   "mimetype": "text/x-python",
   "name": "python",
   "nbconvert_exporter": "python",
   "pygments_lexer": "ipython3",
   "version": "3.7.6"
  }
 },
 "nbformat": 4,
 "nbformat_minor": 4
}
