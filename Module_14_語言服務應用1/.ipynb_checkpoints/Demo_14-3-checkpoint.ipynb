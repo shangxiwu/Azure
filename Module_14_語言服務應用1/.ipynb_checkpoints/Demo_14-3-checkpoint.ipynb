{
 "cells": [
  {
   "cell_type": "markdown",
   "metadata": {},
   "source": [
    "# 執行關鍵字詞擷取服務操作"
   ]
  },
  {
   "cell_type": "code",
   "execution_count": 6,
   "metadata": {},
   "outputs": [
    {
     "name": "stdout",
     "output_type": "stream",
     "text": [
      "\tKey Phrases:\n",
      "\t\t cat\n",
      "\t\t veterinarian\n"
     ]
    }
   ],
   "source": [
    "from azure.ai.textanalytics import TextAnalyticsClient, TextAnalyticsApiKeyCredential\n",
    "\n",
    "key = \"efae95cbccd84487aec0d7d985d0fdcc\"\n",
    "endpoint = \"https://txtanalyze.cognitiveservices.azure.com/\"\n",
    "\n",
    "\n",
    "def authenticate_client():\n",
    "    ta_credential = TextAnalyticsApiKeyCredential(key)\n",
    "    text_analytics_client = TextAnalyticsClient(\n",
    "            endpoint=endpoint, credential=ta_credential)\n",
    "    return text_analytics_client\n",
    "\n",
    "client = authenticate_client()\n",
    "\n",
    "\n",
    "def key_phrase_extraction_example(client):\n",
    "\n",
    "    try:\n",
    "        document = [\"My cat might need to see a veterinarian.\"]\n",
    "\n",
    "        response = client.extract_key_phrases(inputs= document)[0]\n",
    "\n",
    "        if not response.is_error:\n",
    "            print(\"\\tKey Phrases:\")\n",
    "            for phrase in response.key_phrases:\n",
    "                print(\"\\t\\t\", phrase)\n",
    "        else:\n",
    "            print(response.id, response.error)\n",
    "\n",
    "    except Exception as err:\n",
    "        print(\"Encountered exception. {}\".format(err))\n",
    "        \n",
    "key_phrase_extraction_example(client)"
   ]
  },
  {
   "cell_type": "markdown",
   "metadata": {},
   "source": [
    "# 執行實體辨識服務操作"
   ]
  },
  {
   "cell_type": "markdown",
   "metadata": {},
   "source": [
    "## 實體辨識"
   ]
  },
  {
   "cell_type": "code",
   "execution_count": 7,
   "metadata": {},
   "outputs": [
    {
     "name": "stdout",
     "output_type": "stream",
     "text": [
      "Named Entities:\n",
      "\n",
      "\tText: \t Seattle \tCategory: \t Location \tSubCategory: \t GPE \n",
      "\tLength: \t 7 \tConfidence Score: \t 0.92 \n",
      "\n",
      "\tText: \t last week \tCategory: \t DateTime \tSubCategory: \t DateRange \n",
      "\tLength: \t 9 \tConfidence Score: \t 0.8 \n",
      "\n"
     ]
    }
   ],
   "source": [
    "from azure.ai.textanalytics import TextAnalyticsClient, TextAnalyticsApiKeyCredential\n",
    "\n",
    "key = \"efae95cbccd84487aec0d7d985d0fdcc\"\n",
    "endpoint = \"https://txtanalyze.cognitiveservices.azure.com/\"\n",
    "\n",
    "\n",
    "def authenticate_client():\n",
    "    ta_credential = TextAnalyticsApiKeyCredential(key)\n",
    "    text_analytics_client = TextAnalyticsClient(\n",
    "            endpoint=endpoint, credential=ta_credential)\n",
    "    return text_analytics_client\n",
    "\n",
    "client = authenticate_client()\n",
    "\n",
    "\n",
    "def entity_recognition_example(client):\n",
    "\n",
    "    try:\n",
    "        document = [\"I had a wonderful trip to Seattle last week.\"]\n",
    "        result = client.recognize_entities(inputs= document)[0]\n",
    "\n",
    "        print(\"Named Entities:\\n\")\n",
    "        for entity in result.entities:\n",
    "            print(\"\\tText: \\t\", entity.text, \"\\tCategory: \\t\", entity.category, \"\\tSubCategory: \\t\", entity.subcategory,\n",
    "                    \"\\n\\tLength: \\t\", entity.grapheme_length, \"\\tConfidence Score: \\t\", round(entity.score, 2), \"\\n\")\n",
    "\n",
    "    except Exception as err:\n",
    "        print(\"Encountered exception. {}\".format(err))\n",
    "entity_recognition_example(client)"
   ]
  },
  {
   "cell_type": "markdown",
   "metadata": {},
   "source": [
    "## 使用 NER 來偵測個人資訊"
   ]
  },
  {
   "cell_type": "code",
   "execution_count": 8,
   "metadata": {},
   "outputs": [
    {
     "name": "stdout",
     "output_type": "stream",
     "text": [
      "Personally Identifiable Information Entities: \n",
      "\tText:  123-12-1234 \tCategory:  U.S. Social Security Number (SSN) \tSubCategory:  None\n",
      "\t\tLength:  11 \tScore: 0.85 \n",
      "\n"
     ]
    }
   ],
   "source": [
    "from azure.ai.textanalytics import TextAnalyticsClient, TextAnalyticsApiKeyCredential\n",
    "\n",
    "key = \"efae95cbccd84487aec0d7d985d0fdcc\"\n",
    "endpoint = \"https://txtanalyze.cognitiveservices.azure.com/\"\n",
    "\n",
    "\n",
    "def authenticate_client():\n",
    "    ta_credential = TextAnalyticsApiKeyCredential(key)\n",
    "    text_analytics_client = TextAnalyticsClient(\n",
    "            endpoint=endpoint, credential=ta_credential)\n",
    "    return text_analytics_client\n",
    "\n",
    "client = authenticate_client()\n",
    "\n",
    "\n",
    "def entity_pii_example(client):\n",
    "\n",
    "        document = [\"Insurance policy for SSN on file 123-12-1234 is here by approved.\"]\n",
    "\n",
    "\n",
    "        result = client.recognize_pii_entities(inputs= document)[0]\n",
    "        \n",
    "        print(\"Personally Identifiable Information Entities: \")\n",
    "        for entity in result.entities:\n",
    "            print(\"\\tText: \",entity.text,\"\\tCategory: \", entity.category,\"\\tSubCategory: \", entity.subcategory)\n",
    "            print(\"\\t\\tLength: \", entity.grapheme_length, \"\\tScore: {0:.2f}\".format(entity.score), \"\\n\")\n",
    "        \n",
    "entity_pii_example(client)"
   ]
  },
  {
   "cell_type": "markdown",
   "metadata": {},
   "source": [
    "## 實體連結"
   ]
  },
  {
   "cell_type": "code",
   "execution_count": 9,
   "metadata": {},
   "outputs": [
    {
     "name": "stdout",
     "output_type": "stream",
     "text": [
      "Linked Entities:\n",
      "\n",
      "\tName:  Altair 8800 \tId:  Altair 8800 \tUrl:  https://en.wikipedia.org/wiki/Altair_8800 \n",
      "\tData Source:  Wikipedia\n",
      "\tMatches:\n",
      "\t\tText: Altair 8800\n",
      "\t\tScore: 0.00 \tLength: 11\n",
      "\n",
      "\tName:  Bill Gates \tId:  Bill Gates \tUrl:  https://en.wikipedia.org/wiki/Bill_Gates \n",
      "\tData Source:  Wikipedia\n",
      "\tMatches:\n",
      "\t\tText: Bill Gates\n",
      "\t\tScore: 0.00 \tLength: 10\n",
      "\n",
      "\t\tText: Gates\n",
      "\t\tScore: 0.00 \tLength: 5\n",
      "\n",
      "\tName:  Paul Allen \tId:  Paul Allen \tUrl:  https://en.wikipedia.org/wiki/Paul_Allen \n",
      "\tData Source:  Wikipedia\n",
      "\tMatches:\n",
      "\t\tText: Paul Allen\n",
      "\t\tScore: 0.00 \tLength: 10\n",
      "\n",
      "\tName:  Microsoft \tId:  Microsoft \tUrl:  https://en.wikipedia.org/wiki/Microsoft \n",
      "\tData Source:  Wikipedia\n",
      "\tMatches:\n",
      "\t\tText: Microsoft\n",
      "\t\tScore: 0.00 \tLength: 9\n",
      "\n",
      "\t\tText: Microsoft\n",
      "\t\tScore: 0.00 \tLength: 9\n",
      "\n",
      "\tName:  April 4 \tId:  April 4 \tUrl:  https://en.wikipedia.org/wiki/April_4 \n",
      "\tData Source:  Wikipedia\n",
      "\tMatches:\n",
      "\t\tText: April 4\n",
      "\t\tScore: 0.00 \tLength: 7\n",
      "\n",
      "\tName:  BASIC \tId:  BASIC \tUrl:  https://en.wikipedia.org/wiki/BASIC \n",
      "\tData Source:  Wikipedia\n",
      "\tMatches:\n",
      "\t\tText: BASIC\n",
      "\t\tScore: 0.00 \tLength: 5\n",
      "\n"
     ]
    }
   ],
   "source": [
    "from azure.ai.textanalytics import TextAnalyticsClient, TextAnalyticsApiKeyCredential\n",
    "\n",
    "key = \"efae95cbccd84487aec0d7d985d0fdcc\"\n",
    "endpoint = \"https://txtanalyze.cognitiveservices.azure.com/\"\n",
    "\n",
    "\n",
    "def authenticate_client():\n",
    "    ta_credential = TextAnalyticsApiKeyCredential(key)\n",
    "    text_analytics_client = TextAnalyticsClient(\n",
    "            endpoint=endpoint, credential=ta_credential)\n",
    "    return text_analytics_client\n",
    "\n",
    "client = authenticate_client()\n",
    "\n",
    "\n",
    "def entity_linking_example(client):\n",
    "\n",
    "    try:\n",
    "        document = [\"\"\"Microsoft was founded by Bill Gates and Paul Allen on April 4, 1975, \n",
    "        to develop and sell BASIC interpreters for the Altair 8800. \n",
    "        During his career at Microsoft, Gates held the positions of chairman,\n",
    "        chief executive officer, president and chief software architect, \n",
    "        while also being the largest individual shareholder until May 2014.\"\"\"]\n",
    "        result = client.recognize_linked_entities(inputs= document)[0]\n",
    "\n",
    "        print(\"Linked Entities:\\n\")\n",
    "        for entity in result.entities:\n",
    "            print(\"\\tName: \", entity.name, \"\\tId: \", entity.data_source_entity_id, \"\\tUrl: \", entity.url,\n",
    "            \"\\n\\tData Source: \", entity.data_source)\n",
    "            print(\"\\tMatches:\")\n",
    "            for match in entity.matches:\n",
    "                print(\"\\t\\tText:\", match.text)\n",
    "                print(\"\\t\\tScore: {0:.2f}\".format(match.score), \"\\tLength: {}\\n\".format(match.grapheme_length))\n",
    "            \n",
    "    except Exception as err:\n",
    "        print(\"Encountered exception. {}\".format(err))\n",
    "entity_linking_example(client)"
   ]
  },
  {
   "cell_type": "markdown",
   "metadata": {},
   "source": [
    "# 執行文本翻譯服務操作"
   ]
  },
  {
   "cell_type": "code",
   "execution_count": 11,
   "metadata": {},
   "outputs": [
    {
     "name": "stdout",
     "output_type": "stream",
     "text": [
      "[\n",
      "    {\n",
      "        \"detectedLanguage\": {\n",
      "            \"language\": \"en\",\n",
      "            \"score\": 1.0\n",
      "        },\n",
      "        \"translations\": [\n",
      "            {\n",
      "                \"text\": \"Hallo Welt!\",\n",
      "                \"to\": \"de\"\n",
      "            },\n",
      "            {\n",
      "                \"text\": \"Salve, mondo!\",\n",
      "                \"to\": \"it\"\n",
      "            }\n",
      "        ]\n",
      "    }\n",
      "]\n"
     ]
    }
   ],
   "source": [
    "# -*- coding: utf-8 -*-\n",
    "import os, requests, uuid, json\n",
    "\n",
    "subscription_key = '7d45d3ad8735477284a308cf04a11296' # your key\n",
    "endpoint = 'https://api.cognitive.microsofttranslator.com/'\n",
    "\n",
    "# key_var_name = 'TRANSLATOR_TEXT_SUBSCRIPTION_KEY'\n",
    "# if not key_var_name in os.environ:\n",
    "#     raise Exception('Please set/export the environment variable: {}'.format(key_var_name))\n",
    "# subscription_key = os.environ[key_var_name]\n",
    "\n",
    "# endpoint_var_name = 'TRANSLATOR_TEXT_ENDPOINT'\n",
    "# if not endpoint_var_name in os.environ:\n",
    "#     raise Exception('Please set/export the environment variable: {}'.format(endpoint_var_name))\n",
    "# endpoint = os.environ[endpoint_var_name]\n",
    "\n",
    "path = '/translate?api-version=3.0'\n",
    "\n",
    "# Output language setting\n",
    "params = '&to=de&to=it'\n",
    "constructed_url = endpoint + path + params\n",
    "\n",
    "headers = {\n",
    "    'Ocp-Apim-Subscription-Key': subscription_key,\n",
    "    'Content-type': 'application/json',\n",
    "    'X-ClientTraceId': str(uuid.uuid4())\n",
    "}\n",
    "\n",
    "body = [{\n",
    "    'text': 'Hello World!'\n",
    "}]\n",
    "\n",
    "request = requests.post(constructed_url, headers=headers, json=body)\n",
    "response = request.json()\n",
    "\n",
    "print(json.dumps(response, sort_keys=True, indent=4,\n",
    "                 ensure_ascii=False, separators=(',', ': ')))\n",
    "\n"
   ]
  }
 ],
 "metadata": {
  "kernelspec": {
   "display_name": "Python 3",
   "language": "python",
   "name": "python3"
  },
  "language_info": {
   "codemirror_mode": {
    "name": "ipython",
    "version": 3
   },
   "file_extension": ".py",
   "mimetype": "text/x-python",
   "name": "python",
   "nbconvert_exporter": "python",
   "pygments_lexer": "ipython3",
   "version": "3.7.7"
  }
 },
 "nbformat": 4,
 "nbformat_minor": 4
}
