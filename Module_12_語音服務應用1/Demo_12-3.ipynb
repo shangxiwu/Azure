{
 "cells": [
  {
   "cell_type": "markdown",
   "metadata": {},
   "source": [
    "# 語音轉成翻譯文字服務操作"
   ]
  },
  {
   "cell_type": "code",
   "execution_count": 1,
   "metadata": {},
   "outputs": [
    {
     "name": "stdout",
     "output_type": "stream",
     "text": [
      "Say something...\n",
      "RECOGNIZED 'en-US': Hello. How are you? Fine. Thank you. And you.\n",
      "TRANSLATED into de: Hallo. Wie geht es dir? fein. Danke. Und du.\n"
     ]
    }
   ],
   "source": [
    "import azure.cognitiveservices.speech as speechsdk\n",
    "\n",
    "speech_key, service_region = \"c614b5c49e13466fa6cad11e10c0bd9c\", \"westus2\"\n",
    "\n",
    "def translate_speech_to_text():\n",
    "\n",
    "    # Creates an instance of a speech translation config with specified subscription key and service region.\n",
    "    # Replace with your own subscription key and region identifier from here: https://aka.ms/speech/sdkregion\n",
    "    translation_config = speechsdk.translation.SpeechTranslationConfig(subscription=speech_key, region=service_region)\n",
    "\n",
    "    # Sets source and target languages.\n",
    "    # Replace with the languages of your choice, from list found here: https://aka.ms/speech/sttt-languages\n",
    "    fromLanguage = 'en-US'\n",
    "    toLanguage = 'de'\n",
    "    translation_config.speech_recognition_language = fromLanguage\n",
    "    translation_config.add_target_language(toLanguage)\n",
    "\n",
    "    # Creates a translation recognizer using and audio file as input.\n",
    "    recognizer = speechsdk.translation.TranslationRecognizer(translation_config=translation_config)\n",
    "\n",
    "    # Starts translation, and returns after a single utterance is recognized. The end of a\n",
    "    # single utterance is determined by listening for silence at the end or until a maximum of 15\n",
    "    # seconds of audio is processed. It returns the recognized text as well as the translation.\n",
    "    # Note: Since recognize_once() returns only a single utterance, it is suitable only for single\n",
    "    # shot recognition like command or query.\n",
    "    # For long-running multi-utterance recognition, use start_continuous_recognition() instead.\n",
    "    print(\"Say something...\")\n",
    "    result = recognizer.recognize_once()\n",
    "\n",
    "    # Check the result\n",
    "    if result.reason == speechsdk.ResultReason.TranslatedSpeech:\n",
    "        print(\"RECOGNIZED '{}': {}\".format(fromLanguage, result.text))\n",
    "        print(\"TRANSLATED into {}: {}\".format(toLanguage, result.translations['de']))\n",
    "    elif result.reason == speechsdk.ResultReason.RecognizedSpeech:\n",
    "        print(\"RECOGNIZED: {} (text could not be translated)\".format(result.text))\n",
    "    elif result.reason == speechsdk.ResultReason.NoMatch:\n",
    "        print(\"NOMATCH: Speech could not be recognized: {}\".format(result.no_match_details))\n",
    "    elif result.reason == speechsdk.ResultReason.Canceled:\n",
    "        print(\"CANCELED: Reason={}\".format(result.cancellation_details.reason))\n",
    "        if result.cancellation_details.reason == speechsdk.CancellationReason.Error:\n",
    "            print(\"CANCELED: ErrorDetails={}\".format(result.cancellation_details.error_details))\n",
    "\n",
    "translate_speech_to_text()"
   ]
  },
  {
   "cell_type": "markdown",
   "metadata": {},
   "source": [
    "# 語音轉成多國翻譯文字服務操作"
   ]
  },
  {
   "cell_type": "code",
   "execution_count": 2,
   "metadata": {},
   "outputs": [
    {
     "name": "stdout",
     "output_type": "stream",
     "text": [
      "Say something...\n",
      "RECOGNIZED 'en-US': Hi.\n",
      "TRANSLATED into de: Hallo.\n",
      "TRANSLATED into fr: Salut.\n"
     ]
    }
   ],
   "source": [
    "import azure.cognitiveservices.speech as speechsdk\n",
    "\n",
    "speech_key, service_region = \"c614b5c49e13466fa6cad11e10c0bd9c\", \"westus2\"\n",
    "\n",
    "def translate_speech_to_text():\n",
    "\n",
    "    # Creates an instance of a speech translation config with specified subscription key and service region.\n",
    "    # Replace with your own subscription key and region identifier from here: https://aka.ms/speech/sdkregion\n",
    "    translation_config = speechsdk.translation.SpeechTranslationConfig(subscription=speech_key, region=service_region)\n",
    "\n",
    "    # Sets source and target languages.\n",
    "    # Replace with the languages of your choice, from list found here: https://aka.ms/speech/sttt-languages\n",
    "    fromLanguage = 'en-US'\n",
    "    translation_config.speech_recognition_language = fromLanguage\n",
    "    translation_config.add_target_language('de')\n",
    "    translation_config.add_target_language('fr')\n",
    "\n",
    "    # Creates a translation recognizer using and audio file as input.\n",
    "    recognizer = speechsdk.translation.TranslationRecognizer(translation_config=translation_config)\n",
    "\n",
    "    # Starts translation, and returns after a single utterance is recognized. The end of a\n",
    "    # single utterance is determined by listening for silence at the end or until a maximum of 15\n",
    "    # seconds of audio is processed. It returns the recognized text as well as the translation.\n",
    "    # Note: Since recognize_once() returns only a single utterance, it is suitable only for single\n",
    "    # shot recognition like command or query.\n",
    "    # For long-running multi-utterance recognition, use start_continuous_recognition() instead.\n",
    "    print(\"Say something...\")\n",
    "    result = recognizer.recognize_once()\n",
    "\n",
    "    # Check the result\n",
    "    if result.reason == speechsdk.ResultReason.TranslatedSpeech:\n",
    "        print(\"RECOGNIZED '{}': {}\".format(fromLanguage, result.text))\n",
    "        print(\"TRANSLATED into {}: {}\".format('de', result.translations['de']))\n",
    "        print(\"TRANSLATED into {}: {}\".format('fr', result.translations['fr']))\n",
    "    elif result.reason == speechsdk.ResultReason.RecognizedSpeech:\n",
    "        print(\"RECOGNIZED: {} (text could not be translated)\".format(result.text))\n",
    "    elif result.reason == speechsdk.ResultReason.NoMatch:\n",
    "        print(\"NOMATCH: Speech could not be recognized: {}\".format(result.no_match_details))\n",
    "    elif result.reason == speechsdk.ResultReason.Canceled:\n",
    "        print(\"CANCELED: Reason={}\".format(result.cancellation_details.reason))\n",
    "        if result.cancellation_details.reason == speechsdk.CancellationReason.Error:\n",
    "            print(\"CANCELED: ErrorDetails={}\".format(result.cancellation_details.error_details))\n",
    "\n",
    "translate_speech_to_text()"
   ]
  },
  {
   "cell_type": "markdown",
   "metadata": {},
   "source": [
    "# 語音轉成多國語音服務操作"
   ]
  },
  {
   "cell_type": "code",
   "execution_count": 3,
   "metadata": {},
   "outputs": [
    {
     "name": "stdout",
     "output_type": "stream",
     "text": [
      "Say something...\n",
      "AUDIO SYNTHESIZED: 69706 byte(s) RECOGNIZED 'en-US': Hello weather is so good.\n",
      "\n",
      "TRANSLATED into de: Hallo Wetter ist so gut.\n"
     ]
    }
   ],
   "source": [
    "import azure.cognitiveservices.speech as speechsdk\n",
    "\n",
    "speech_key, service_region = \"c614b5c49e13466fa6cad11e10c0bd9c\", \"westus2\"\n",
    "\n",
    "def translate_speech_to_speech():\n",
    "\n",
    "    # Creates an instance of a speech translation config with specified subscription key and service region.\n",
    "    # Replace with your own subscription key and region identifier from here: https://aka.ms/speech/sdkregion\n",
    "    translation_config = speechsdk.translation.SpeechTranslationConfig(subscription=speech_key, region=service_region)\n",
    "\n",
    "    # Sets source and target languages.\n",
    "    # Replace with the languages of your choice, from list found here: https://aka.ms/speech/sttt-languages\n",
    "    fromLanguage = 'en-US'\n",
    "    toLanguage = 'de'\n",
    "    translation_config.speech_recognition_language = fromLanguage\n",
    "    translation_config.add_target_language(toLanguage)\n",
    "\n",
    "    # Sets the synthesis output voice name.\n",
    "    # Replace with the languages of your choice, from list found here: https://aka.ms/speech/tts-languages\n",
    "    translation_config.voice_name = \"de-DE-Hedda\"\n",
    "\n",
    "    # Creates a translation recognizer using and audio file as input.\n",
    "    recognizer = speechsdk.translation.TranslationRecognizer(translation_config=translation_config)\n",
    "\n",
    "    # Prepare to handle the synthesized audio data.\n",
    "    def synthesis_callback(evt):\n",
    "        size = len(evt.result.audio)\n",
    "        print('AUDIO SYNTHESIZED: {} byte(s) {}'.format(size, '(COMPLETED)' if size == 0 else ''))\n",
    "\n",
    "    recognizer.synthesizing.connect(synthesis_callback)\n",
    "\n",
    "    # Starts translation, and returns after a single utterance is recognized. The end of a\n",
    "    # single utterance is determined by listening for silence at the end or until a maximum of 15\n",
    "    # seconds of audio is processed. It returns the recognized text as well as the translation.\n",
    "    # Note: Since recognize_once() returns only a single utterance, it is suitable only for single\n",
    "    # shot recognition like command or query.\n",
    "    # For long-running multi-utterance recognition, use start_continuous_recognition() instead.\n",
    "    print(\"Say something...\")\n",
    "    result = recognizer.recognize_once()\n",
    "\n",
    "    # Check the result\n",
    "    if result.reason == speechsdk.ResultReason.TranslatedSpeech:\n",
    "        print(\"RECOGNIZED '{}': {}\".format(fromLanguage, result.text))\n",
    "        print(\"TRANSLATED into {}: {}\".format(toLanguage, result.translations['de']))\n",
    "    elif result.reason == speechsdk.ResultReason.RecognizedSpeech:\n",
    "        print(\"RECOGNIZED: {} (text could not be translated)\".format(result.text))\n",
    "    elif result.reason == speechsdk.ResultReason.NoMatch:\n",
    "        print(\"NOMATCH: Speech could not be recognized: {}\".format(result.no_match_details))\n",
    "    elif result.reason == speechsdk.ResultReason.Canceled:\n",
    "        print(\"CANCELED: Reason={}\".format(result.cancellation_details.reason))\n",
    "        if result.cancellation_details.reason == speechsdk.CancellationReason.Error:\n",
    "            print(\"CANCELED: ErrorDetails={}\".format(result.cancellation_details.error_details))\n",
    "\n",
    "translate_speech_to_speech()"
   ]
  }
 ],
 "metadata": {
  "kernelspec": {
   "display_name": "Python 3",
   "language": "python",
   "name": "python3"
  },
  "language_info": {
   "codemirror_mode": {
    "name": "ipython",
    "version": 3
   },
   "file_extension": ".py",
   "mimetype": "text/x-python",
   "name": "python",
   "nbconvert_exporter": "python",
   "pygments_lexer": "ipython3",
   "version": "3.7.6"
  }
 },
 "nbformat": 4,
 "nbformat_minor": 4
}
