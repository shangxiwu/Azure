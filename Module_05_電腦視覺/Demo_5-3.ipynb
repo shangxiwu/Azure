{
 "cells": [
  {
   "cell_type": "markdown",
   "metadata": {},
   "source": [
    "# Azure Congnative Service - Computer vision - content tagging"
   ]
  },
  {
   "cell_type": "markdown",
   "metadata": {},
   "source": [
    "# 使用網路URL執行內容標記服務操作"
   ]
  },
  {
   "cell_type": "code",
   "execution_count": 2,
   "metadata": {},
   "outputs": [
    {
     "name": "stdout",
     "output_type": "stream",
     "text": [
      "===== Tag an image - remote =====\n",
      "Tags in the remote image: \n",
      "'train' with confidence 100.00%\n",
      "'platform' with confidence 99.86%\n",
      "'station' with confidence 99.65%\n",
      "'track' with confidence 90.41%\n",
      "'subway' with confidence 88.26%\n",
      "'transport' with confidence 70.64%\n",
      "'ceiling' with confidence 70.38%\n",
      "'long' with confidence 62.34%\n",
      "'pulling' with confidence 56.63%\n"
     ]
    }
   ],
   "source": [
    "from azure.cognitiveservices.vision.computervision import ComputerVisionClient\n",
    "from msrest.authentication import CognitiveServicesCredentials\n",
    "\n",
    "# Set API key.\n",
    "subscription_key = '390b0e8c9f8b43d9a21e896e74ae1c7b'\n",
    "\n",
    "# Set endpoint.\n",
    "endpoint = 'https://aien08cv01.cognitiveservices.azure.com/'\n",
    "\n",
    "# Call API\n",
    "computervision_client = ComputerVisionClient(endpoint, CognitiveServicesCredentials(subscription_key))\n",
    "\n",
    "    \n",
    "remote_image_url = \"https://i2-prod.mylondon.news/incoming/article18231776.ece/ALTERNATES/s615/1_may11tube.jpg\"\n",
    "\n",
    "'''\n",
    "Tag an Image - remote\n",
    "This example returns a tag (key word) for each thing in the image.\n",
    "'''\n",
    "print(\"===== Tag an image - remote =====\")\n",
    "# Call API with remote image\n",
    "tags_result_remote = computervision_client.tag_image(remote_image_url )\n",
    "\n",
    "# Print results with confidence score\n",
    "print(\"Tags in the remote image: \")\n",
    "if (len(tags_result_remote.tags) == 0):\n",
    "    print(\"No tags detected.\")\n",
    "else:\n",
    "    for tag in tags_result_remote.tags:\n",
    "        print(\"'{}' with confidence {:.2f}%\".format(tag.name, tag.confidence * 100))"
   ]
  },
  {
   "cell_type": "markdown",
   "metadata": {},
   "source": [
    "# 上傳本機圖檔執行內容標記服務操作"
   ]
  },
  {
   "cell_type": "code",
   "execution_count": 9,
   "metadata": {},
   "outputs": [
    {
     "name": "stdout",
     "output_type": "stream",
     "text": [
      "===== Tag an image - remote =====\n",
      "Tags in the local image: \n",
      "'cat' with confidence 100.00%\n",
      "'indoor' with confidence 98.07%\n",
      "'sitting' with confidence 97.85%\n",
      "'laying' with confidence 89.25%\n",
      "'animal' with confidence 86.08%\n",
      "'black' with confidence 78.61%\n",
      "'carnivore' with confidence 65.73%\n",
      "'gray' with confidence 45.07%\n",
      "'domestic cat' with confidence 40.28%\n"
     ]
    }
   ],
   "source": [
    "from azure.cognitiveservices.vision.computervision import ComputerVisionClient\n",
    "from msrest.authentication import CognitiveServicesCredentials\n",
    "import os\n",
    "\n",
    "# Set API key.\n",
    "subscription_key = '390b0e8c9f8b43d9a21e896e74ae1c7b'\n",
    "\n",
    "# Set endpoint.\n",
    "endpoint = 'https://aien08cv01.cognitiveservices.azure.com/'\n",
    "\n",
    "# Call API\n",
    "computervision_client = ComputerVisionClient(endpoint, CognitiveServicesCredentials(subscription_key))\n",
    " \n",
    "# 指定圖檔\n",
    "local_image_path = os.getcwd() + '/下載/../../head.jpg'\n",
    "\n",
    "# 讀取圖片\n",
    "local_image = open(local_image_path, \"rb\")\n",
    "\n",
    "'''\n",
    "Tag an Image - local\n",
    "This example returns a tag (key word) for each thing in the image.\n",
    "'''\n",
    "print(\"===== Tag an image - remote =====\")\n",
    "# Call API with local image\n",
    "tags_result_local = computervision_client.tag_image_in_stream(local_image)\n",
    "\n",
    "\n",
    "# Print results with confidence score\n",
    "print(\"Tags in the local image: \")\n",
    "if (len(tags_result_local.tags) == 0):\n",
    "    print(\"No tags detected.\")\n",
    "else:\n",
    "    for tag in tags_result_local.tags:\n",
    "        print(\"'{}' with confidence {:.2f}%\".format(tag.name, tag.confidence * 100))"
   ]
  }
 ],
 "metadata": {
  "kernelspec": {
   "display_name": "Python 3",
   "language": "python",
   "name": "python3"
  },
  "language_info": {
   "codemirror_mode": {
    "name": "ipython",
    "version": 3
   },
   "file_extension": ".py",
   "mimetype": "text/x-python",
   "name": "python",
   "nbconvert_exporter": "python",
   "pygments_lexer": "ipython3",
   "version": "3.7.7"
  }
 },
 "nbformat": 4,
 "nbformat_minor": 4
}
